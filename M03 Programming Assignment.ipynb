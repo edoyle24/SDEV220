{
 "cells": [
  {
   "cell_type": "code",
   "execution_count": 1,
   "id": "e5671f05-cd2b-4472-affb-3351a18b1505",
   "metadata": {},
   "outputs": [
    {
     "name": "stdout",
     "output_type": "stream",
     "text": [
      "['mozzarella', 'cinderella', 'salmonella']\n"
     ]
    }
   ],
   "source": [
    "#7.4\n",
    "things = [\"mozzarella\", \"cinderella\", \"salmonella\"]\n",
    "print(things)"
   ]
  },
  {
   "cell_type": "code",
   "execution_count": 12,
   "id": "3114130e-e10e-4303-87cd-63661ebb386b",
   "metadata": {},
   "outputs": [
    {
     "name": "stdout",
     "output_type": "stream",
     "text": [
      "['mozzarella', 'Cinderella', 'salmonella']\n"
     ]
    }
   ],
   "source": [
    "#7.5\n",
    "things = [\"mozzarella\", \"cinderella\", \"salmonella\"]\n",
    "things[1] = \"Cinderella\"\n",
    "print(things)\n",
    "#yes now Cinderella is capitalized"
   ]
  },
  {
   "cell_type": "code",
   "execution_count": 14,
   "id": "9fb3eb40-e3bb-4ac6-bad4-96e5ffc35106",
   "metadata": {},
   "outputs": [
    {
     "name": "stdout",
     "output_type": "stream",
     "text": [
      "['Mozzarella', 'cinderella', 'salmonella']\n"
     ]
    }
   ],
   "source": [
    "#7.6\n",
    "things = [\"mozzarella\", \"cinderella\", \"salmonella\"]\n",
    "things[0] = \"Mozzarella\"\n",
    "print(things)"
   ]
  },
  {
   "cell_type": "code",
   "execution_count": 20,
   "id": "76c0c12a-4cf8-4010-a07a-56d7c090fc10",
   "metadata": {},
   "outputs": [
    {
     "name": "stdout",
     "output_type": "stream",
     "text": [
      "Here is your Nobel Prize\n",
      "['mozzarella', 'cinderella']\n"
     ]
    }
   ],
   "source": [
    "#7.7\n",
    "things = [\"mozzarella\", \"cinderella\", \"salmonella\"]\n",
    "things.remove(\"salmonella\")\n",
    "\n",
    "print(\"Here is your Nobel Prize\")\n",
    "print(things)"
   ]
  },
  {
   "cell_type": "code",
   "execution_count": 22,
   "id": "eb3d2411-597b-4963-949c-d550ca632294",
   "metadata": {},
   "outputs": [
    {
     "name": "stdout",
     "output_type": "stream",
     "text": [
      "Harry\n",
      "Ron\n",
      "Hermione\n"
     ]
    }
   ],
   "source": [
    "#9.1\n",
    "def good(harry_potter):\n",
    "    for x in harry_potter:\n",
    "        print(x)\n",
    "\n",
    "characters = [\"Harry\", \"Ron\", \"Hermione\"]\n",
    "\n",
    "good(characters)"
   ]
  },
  {
   "cell_type": "code",
   "execution_count": 24,
   "id": "6058fcf8-8400-4cb4-97e6-e26db2a89f1c",
   "metadata": {},
   "outputs": [
    {
     "name": "stdout",
     "output_type": "stream",
     "text": [
      "The third odd number is: 5\n"
     ]
    }
   ],
   "source": [
    "#9.2\n",
    "def get_odds():\n",
    "    for num in range(10):\n",
    "        if num % 2 != 0:\n",
    "            yield num\n",
    "\n",
    "odds = get_odds()\n",
    "\n",
    "count = 0\n",
    "third_value = None\n",
    "for value in odds:\n",
    "    count += 1\n",
    "    if count == 3:\n",
    "        third_value = value\n",
    "        break\n",
    "\n",
    "print(\"The third odd number is:\", third_value)"
   ]
  },
  {
   "cell_type": "code",
   "execution_count": null,
   "id": "422e19d6-ad86-4d9a-9c42-5c00e0b6dc39",
   "metadata": {},
   "outputs": [],
   "source": []
  }
 ],
 "metadata": {
  "kernelspec": {
   "display_name": "Python 3 (ipykernel)",
   "language": "python",
   "name": "python3"
  },
  "language_info": {
   "codemirror_mode": {
    "name": "ipython",
    "version": 3
   },
   "file_extension": ".py",
   "mimetype": "text/x-python",
   "name": "python",
   "nbconvert_exporter": "python",
   "pygments_lexer": "ipython3",
   "version": "3.11.7"
  }
 },
 "nbformat": 4,
 "nbformat_minor": 5
}
