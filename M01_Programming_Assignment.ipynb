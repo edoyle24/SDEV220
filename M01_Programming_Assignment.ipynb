{
 "cells": [
  {
   "cell_type": "code",
   "execution_count": 1,
   "id": "ddc1348a-4f89-4806-b318-6236c325261a",
   "metadata": {},
   "outputs": [
    {
     "name": "stdout",
     "output_type": "stream",
     "text": [
      "24.0\n",
      "24\n"
     ]
    }
   ],
   "source": [
    "# declare how many seconds are in a minute\n",
    "seconds_per_minute = 60\n",
    "\n",
    "#declare how mnay minutes in an hour\n",
    "minutes_per_hour = 60 \n",
    "\n",
    "#determine how many seconds in an hour \n",
    "seconds_per_hour = seconds_per_minute * minutes_per_hour\n",
    "\n",
    "#determine how many seconds are in day\n",
    "seconds_per_day = seconds_per_hour * 24\n",
    "\n",
    "#use float point division to deivide seconds per day by seconds per hour and print the results\n",
    "print(seconds_per_day / seconds_per_hour)\n",
    "\n",
    "#divide using integer division and print the results\n",
    "print(seconds_per_day // seconds_per_hour)"
   ]
  },
  {
   "cell_type": "code",
   "execution_count": null,
   "id": "38ecd78b-bdd2-4b75-94f3-611f5d8fb260",
   "metadata": {},
   "outputs": [],
   "source": []
  }
 ],
 "metadata": {
  "kernelspec": {
   "display_name": "Python 3 (ipykernel)",
   "language": "python",
   "name": "python3"
  },
  "language_info": {
   "codemirror_mode": {
    "name": "ipython",
    "version": 3
   },
   "file_extension": ".py",
   "mimetype": "text/x-python",
   "name": "python",
   "nbconvert_exporter": "python",
   "pygments_lexer": "ipython3",
   "version": "3.11.7"
  }
 },
 "nbformat": 4,
 "nbformat_minor": 5
}
