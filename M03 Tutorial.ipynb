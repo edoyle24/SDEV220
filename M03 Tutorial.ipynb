{
 "cells": [
  {
   "cell_type": "code",
   "execution_count": 2,
   "id": "beb6a956-1774-422b-adb9-67fa3bab7c82",
   "metadata": {},
   "outputs": [],
   "source": [
    "#OOP Programming\n",
    "class Solution:\n",
    "    \n",
    "    #Function to sort an array of 0s, 1s, and 2s.\n",
    "    def sort012(self,arr,n):\n",
    "        low=0\n",
    "        high=n-1\n",
    "        mid=0\n",
    "        \n",
    "        #iterating until mid pointer is less than or equal to high.\n",
    "        while mid<=high:\n",
    "            \n",
    "            #if element at mid is 0, swap with element at low and move both pointers.\n",
    "            if arr[mid]==0:\n",
    "                arr[mid] , arr[low] = arr[low] , arr[mid]\n",
    "                mid+=1\n",
    "                low+=1\n",
    "                \n",
    "            #if element at mid is 1, move mid pointer.\n",
    "            elif arr[mid]==1:\n",
    "                mid+=1\n",
    "                \n",
    "            #if element at mid is 2, swap with element at high and move high pointer.\n",
    "            else:\n",
    "                arr[mid] , arr[high] = arr[high] , arr[mid]\n",
    "                high-=1"
   ]
  },
  {
   "cell_type": "code",
   "execution_count": null,
   "id": "c3810cc4-3ca6-4f98-b51a-d81185a81d65",
   "metadata": {},
   "outputs": [],
   "source": [
    "def binarySearch(arr, l, r, x):\n",
    "\n",
    "    while l <= r:\n",
    "\n",
    "        mid = l + (r - l) // 2\n",
    "\n",
    "        # Check if x is present at mid\n",
    "        if arr[mid] == x:\n",
    "            return mid\n",
    "\n",
    "        # If x is greater, ignore left half\n",
    "        elif arr[mid] < x:\n",
    "            l = mid + 1\n",
    "\n",
    "        # If x is smaller, ignore right half\n",
    "        else:\n",
    "            r = mid - 1\n",
    "\n",
    "    # If we reach here, then the element\n",
    "    # was not present\n",
    "    return -1\n",
    "\n",
    "\n",
    "# Driver Code\n",
    "arr = [2, 3, 4, 10, 40]\n",
    "x = 10\n",
    "\n",
    "# Function call\n",
    "result = binarySearch(arr, 0, len(arr)-1, x)\n",
    "\n",
    "if result != -1:\n",
    "    print(\"Element is present at index % d\" % result)\n",
    "else:\n",
    "    print(\"Element is not present in array\")"
   ]
  }
 ],
 "metadata": {
  "kernelspec": {
   "display_name": "Python 3 (ipykernel)",
   "language": "python",
   "name": "python3"
  },
  "language_info": {
   "codemirror_mode": {
    "name": "ipython",
    "version": 3
   },
   "file_extension": ".py",
   "mimetype": "text/x-python",
   "name": "python",
   "nbconvert_exporter": "python",
   "pygments_lexer": "ipython3",
   "version": "3.11.7"
  }
 },
 "nbformat": 4,
 "nbformat_minor": 5
}
